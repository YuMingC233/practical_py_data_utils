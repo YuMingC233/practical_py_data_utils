{
 "cells": [
  {
   "metadata": {},
   "cell_type": "markdown",
   "source": "初始化包",
   "id": "cd24a88398ee1161"
  },
  {
   "metadata": {
    "ExecuteTime": {
     "end_time": "2024-06-07T17:12:43.523478Z",
     "start_time": "2024-06-07T17:12:43.513735Z"
    }
   },
   "cell_type": "code",
   "source": [
    "from selenium import webdriver\n",
    "# 使用键盘按键方法要导入下面的类\n",
    "from selenium.webdriver.common.keys import Keys\n",
    "import time\n",
    "import csv\n",
    "import os\n",
    "from dotenv import load_dotenv\n",
    "\n",
    "# 从.env文件中导入账号(ACCOUNT)和密码(PASSWORD)\n",
    "dotenv_path = \"../../.env\"\n",
    "load_dotenv(dotenv_path)\n",
    "ACCOUNT = os.getenv(\"HNJD_ACCOUNT\")\n",
    "PASSWORD = os.getenv(\"HNJD_PASSWORD\")\n",
    "\n",
    "print(\"import success\")"
   ],
   "id": "1003bba451f3ab84",
   "outputs": [
    {
     "name": "stdout",
     "output_type": "stream",
     "text": [
      "import success\n"
     ]
    }
   ],
   "execution_count": 20
  },
  {
   "metadata": {},
   "cell_type": "markdown",
   "source": "进入主页",
   "id": "8f6d422a6c814e3e"
  },
  {
   "cell_type": "code",
   "id": "initial_id",
   "metadata": {
    "collapsed": true,
    "ExecuteTime": {
     "end_time": "2024-06-07T17:12:48.025890Z",
     "start_time": "2024-06-07T17:12:44.793559Z"
    }
   },
   "source": [
    "driver = webdriver.Chrome()\n",
    "\n",
    "driver.get(\n",
    "    \"http://authserver.hnjdzy.net/authserver/login?service=http%3A%2F%2Fehall.hnjdzy.net%2Flogin%3Fservice%3Dhttp%3A%2F%2Fehall.hnjdzy.net%2Fnew%2Findex.html\"\n",
    ")\n",
    "\n",
    "driver.implicitly_wait(3)\n",
    "\n",
    "username = driver.find_element_by_name(\"username\")\n",
    "password = driver.find_element_by_id(\"password\")\n",
    "username.send_keys(ACCOUNT)\n",
    "password.send_keys(PASSWORD)\n",
    "submit = driver.find_element_by_class_name(\"auth_login_btn\")\n",
    "submit.click()\n",
    "\n"
   ],
   "outputs": [],
   "execution_count": 21
  },
  {
   "metadata": {
    "ExecuteTime": {
     "end_time": "2024-06-07T17:12:55.619013Z",
     "start_time": "2024-06-07T17:12:55.583602Z"
    }
   },
   "cell_type": "code",
   "source": [
    "# 获取当前窗口句柄\n",
    "all_handler = driver.window_handles\n",
    "driver.switch_to_window(all_handler[1])"
   ],
   "id": "b0616ce6219ea26c",
   "outputs": [
    {
     "name": "stderr",
     "output_type": "stream",
     "text": [
      "C:\\Users\\YuMin\\AppData\\Local\\Temp\\ipykernel_5044\\3949258735.py:3: DeprecationWarning: use driver.switch_to.window instead\n",
      "  driver.switch_to_window(all_handler[1])\n"
     ]
    }
   ],
   "execution_count": 22
  },
  {
   "metadata": {
    "ExecuteTime": {
     "end_time": "2024-06-07T17:12:57.512534Z",
     "start_time": "2024-06-07T17:12:57.500336Z"
    }
   },
   "cell_type": "code",
   "source": [
    "import re\n",
    "def sanitize_filename(filename):\n",
    "    # 移除非法字符\n",
    "    filename = re.sub(r'[\\/:*?\"<>|]', '_', filename)\n",
    "    # 限制文件名长度\n",
    "    return filename[:255]\n",
    "\n",
    "def get_file_extension(url):\n",
    "    # 去掉URL中的查询参数\n",
    "    clean_url = url.split('?')[0]\n",
    "    # 获取文件扩展名\n",
    "    file_extension = clean_url.split('.')[-1]\n",
    "    return file_extension\n",
    "\n",
    "print(\"done\")"
   ],
   "id": "6850eea2ad73bf9f",
   "outputs": [
    {
     "name": "stdout",
     "output_type": "stream",
     "text": [
      "done\n"
     ]
    }
   ],
   "execution_count": 23
  },
  {
   "metadata": {},
   "cell_type": "markdown",
   "source": "核心处理逻辑",
   "id": "fa8477005b64f587"
  },
  {
   "metadata": {
    "ExecuteTime": {
     "end_time": "2024-06-07T18:06:08.860897Z",
     "start_time": "2024-06-07T18:04:45.913206Z"
    }
   },
   "cell_type": "code",
   "source": [
    "score_type_dict = {\n",
    "    \"参加学生活动\": \"学生\",\n",
    "    \"其他加分\": \"加分\",\n",
    "    \"导师制活动\": \"导师制\",\n",
    "    \"担任干部\": \"干部\"\n",
    "}\n",
    "\n",
    "# 遍历证据csv文件，上传证据并逐个提交文件\n",
    "with open('proofs.csv', 'r', newline='', encoding='utf-8') as csvfile:\n",
    "    # 创建CSV读取对象\n",
    "    reader = csv.DictReader(csvfile)\n",
    "    # 遍历每一行数据\n",
    "    for row in reader:\n",
    "        # 点击“新增”按钮\n",
    "        newFjf = driver.find_element_by_id(\"newFjf\")\n",
    "        newFjf.click()\n",
    "\n",
    "        # 点击“附加分名称”，找到附加分名称输入框，输入对应项目内容，点击对应项目\n",
    "        pullbox = driver.find_element_by_css_selector('label[title=\"附加分名称\"] + div div[id^=\"dropdownlistArrowjqxWidget\"]')\n",
    "        pullbox.click()\n",
    "        searchBoxes = driver.find_elements_by_css_selector('div[id^=\"filterinnerListBoxjqxWidget\"]')\n",
    "        searchBox = searchBoxes[0].find_element_by_css_selector('input')\n",
    "        # 自定义位置 -> 分数类型\n",
    "        searchBox.send_keys(score_type_dict[row[\"分数类型\"]])\n",
    "        searchBox.send_keys(Keys.ENTER)\n",
    "        time.sleep(.5)\n",
    "        search_box_items = driver.find_elements_by_css_selector('div[id^=\"listBoxContentinnerListBoxjqxWidget\"]')\n",
    "        search_box_item = search_box_items[0].find_element_by_css_selector('div:nth-child(1) > div:nth-child(1)')\n",
    "        search_box_item.click()\n",
    "\n",
    "        # 点击“得分”下拉框，输入“3”，点击对应项目\n",
    "        if row[\"分数类型\"] != \"其他加分\":\n",
    "            score_box = driver.find_element_by_css_selector('label[title=\"得分\"] + div div[id^=\"dropdownlistArrowjqxWidget\"]')\n",
    "            score_box.click()\n",
    "            score_search = searchBoxes[1].find_element_by_css_selector('input')\n",
    "            # 自定义位置 -> 分数\n",
    "            score_search.send_keys(row[\"分数\"])\n",
    "            score_s_result = search_box_items[1].find_element_by_css_selector('div:nth-child(1) > div:nth-child(1)')\n",
    "            time.sleep(.5)\n",
    "            if score_s_result.text != '':\n",
    "                score_s_result.click()\n",
    "        else:\n",
    "            score_box = driver.find_element_by_css_selector('label[title=\"得分\"] + div input')\n",
    "            score_box.send_keys(row[\"分数\"])\n",
    "\n",
    "\n",
    "        # 点击“申请说明”框，输入预期结果\n",
    "        description_box = driver.find_element_by_class_name(\"bh-txt-input__txtarea\")\n",
    "        description_box.send_keys(row[\"标题\"] + \" \" + row[\"时间\"])\n",
    "\n",
    "        ROOT_PATH = \"E:/python/practical_py_data_utils/hnjd/social_credit/\"\n",
    "\n",
    "        # 找到文件控件，直接根据路径上传文件\n",
    "        file_input = driver.find_element_by_name(\"bhFile\")\n",
    "        # 获取第一个图片的路径并上传\n",
    "        photo_names = row['图片名称'].split(', ')\n",
    "        image_path = ROOT_PATH + \"res/\" + photo_names[0]\n",
    "        file_input.send_keys(image_path)\n",
    "        # 等待5秒\n",
    "        time.sleep(5)\n",
    "        # 点击“提交”按钮\n",
    "        buttons = driver.find_elements_by_class_name(\"bh-pull-right\")\n",
    "        submit_btn = buttons[1]\n",
    "        submit_btn.click()\n",
    "\n",
    "        # faild file \n",
    "print(\"done\")"
   ],
   "id": "99b54867a2ec3d8c",
   "outputs": [
    {
     "ename": "ElementClickInterceptedException",
     "evalue": "Message: element click intercepted: Element <button type=\"button\" id=\"newFjf\" class=\"bh-btn bh-btn-primary\">...</button> is not clickable at point (193, 374). Other element would receive the click: <div class=\"jqx-window-modal\" style=\"opacity: 0.3; display: block; position: absolute; top: 0px; left: 0px; width: 100%; height: 2434px; z-index: 18000;\"></div>\n  (Session info: chrome=125.0.6422.142)\n",
     "output_type": "error",
     "traceback": [
      "\u001B[1;31m---------------------------------------------------------------------------\u001B[0m",
      "\u001B[1;31mElementClickInterceptedException\u001B[0m          Traceback (most recent call last)",
      "Cell \u001B[1;32mIn[45], line 16\u001B[0m\n\u001B[0;32m     13\u001B[0m \u001B[38;5;28;01mfor\u001B[39;00m row \u001B[38;5;129;01min\u001B[39;00m reader:\n\u001B[0;32m     14\u001B[0m     \u001B[38;5;66;03m# 点击“新增”按钮\u001B[39;00m\n\u001B[0;32m     15\u001B[0m     newFjf \u001B[38;5;241m=\u001B[39m driver\u001B[38;5;241m.\u001B[39mfind_element_by_id(\u001B[38;5;124m\"\u001B[39m\u001B[38;5;124mnewFjf\u001B[39m\u001B[38;5;124m\"\u001B[39m)\n\u001B[1;32m---> 16\u001B[0m     \u001B[43mnewFjf\u001B[49m\u001B[38;5;241;43m.\u001B[39;49m\u001B[43mclick\u001B[49m\u001B[43m(\u001B[49m\u001B[43m)\u001B[49m\n\u001B[0;32m     18\u001B[0m     \u001B[38;5;66;03m# 点击“附加分名称”，找到附加分名称输入框，输入对应项目内容，点击对应项目\u001B[39;00m\n\u001B[0;32m     19\u001B[0m     pullbox \u001B[38;5;241m=\u001B[39m driver\u001B[38;5;241m.\u001B[39mfind_element_by_css_selector(\u001B[38;5;124m'\u001B[39m\u001B[38;5;124mlabel[title=\u001B[39m\u001B[38;5;124m\"\u001B[39m\u001B[38;5;124m附加分名称\u001B[39m\u001B[38;5;124m\"\u001B[39m\u001B[38;5;124m] + div div[id^=\u001B[39m\u001B[38;5;124m\"\u001B[39m\u001B[38;5;124mdropdownlistArrowjqxWidget\u001B[39m\u001B[38;5;124m\"\u001B[39m\u001B[38;5;124m]\u001B[39m\u001B[38;5;124m'\u001B[39m)\n",
      "File \u001B[1;32mE:\\anaconda-3\\envs\\default_env\\lib\\site-packages\\selenium\\webdriver\\remote\\webelement.py:80\u001B[0m, in \u001B[0;36mWebElement.click\u001B[1;34m(self)\u001B[0m\n\u001B[0;32m     78\u001B[0m \u001B[38;5;28;01mdef\u001B[39;00m \u001B[38;5;21mclick\u001B[39m(\u001B[38;5;28mself\u001B[39m):\n\u001B[0;32m     79\u001B[0m \u001B[38;5;250m    \u001B[39m\u001B[38;5;124;03m\"\"\"Clicks the element.\"\"\"\u001B[39;00m\n\u001B[1;32m---> 80\u001B[0m     \u001B[38;5;28;43mself\u001B[39;49m\u001B[38;5;241;43m.\u001B[39;49m\u001B[43m_execute\u001B[49m\u001B[43m(\u001B[49m\u001B[43mCommand\u001B[49m\u001B[38;5;241;43m.\u001B[39;49m\u001B[43mCLICK_ELEMENT\u001B[49m\u001B[43m)\u001B[49m\n",
      "File \u001B[1;32mE:\\anaconda-3\\envs\\default_env\\lib\\site-packages\\selenium\\webdriver\\remote\\webelement.py:633\u001B[0m, in \u001B[0;36mWebElement._execute\u001B[1;34m(self, command, params)\u001B[0m\n\u001B[0;32m    631\u001B[0m     params \u001B[38;5;241m=\u001B[39m {}\n\u001B[0;32m    632\u001B[0m params[\u001B[38;5;124m'\u001B[39m\u001B[38;5;124mid\u001B[39m\u001B[38;5;124m'\u001B[39m] \u001B[38;5;241m=\u001B[39m \u001B[38;5;28mself\u001B[39m\u001B[38;5;241m.\u001B[39m_id\n\u001B[1;32m--> 633\u001B[0m \u001B[38;5;28;01mreturn\u001B[39;00m \u001B[38;5;28;43mself\u001B[39;49m\u001B[38;5;241;43m.\u001B[39;49m\u001B[43m_parent\u001B[49m\u001B[38;5;241;43m.\u001B[39;49m\u001B[43mexecute\u001B[49m\u001B[43m(\u001B[49m\u001B[43mcommand\u001B[49m\u001B[43m,\u001B[49m\u001B[43m \u001B[49m\u001B[43mparams\u001B[49m\u001B[43m)\u001B[49m\n",
      "File \u001B[1;32mE:\\anaconda-3\\envs\\default_env\\lib\\site-packages\\selenium\\webdriver\\remote\\webdriver.py:321\u001B[0m, in \u001B[0;36mWebDriver.execute\u001B[1;34m(self, driver_command, params)\u001B[0m\n\u001B[0;32m    319\u001B[0m response \u001B[38;5;241m=\u001B[39m \u001B[38;5;28mself\u001B[39m\u001B[38;5;241m.\u001B[39mcommand_executor\u001B[38;5;241m.\u001B[39mexecute(driver_command, params)\n\u001B[0;32m    320\u001B[0m \u001B[38;5;28;01mif\u001B[39;00m response:\n\u001B[1;32m--> 321\u001B[0m     \u001B[38;5;28;43mself\u001B[39;49m\u001B[38;5;241;43m.\u001B[39;49m\u001B[43merror_handler\u001B[49m\u001B[38;5;241;43m.\u001B[39;49m\u001B[43mcheck_response\u001B[49m\u001B[43m(\u001B[49m\u001B[43mresponse\u001B[49m\u001B[43m)\u001B[49m\n\u001B[0;32m    322\u001B[0m     response[\u001B[38;5;124m'\u001B[39m\u001B[38;5;124mvalue\u001B[39m\u001B[38;5;124m'\u001B[39m] \u001B[38;5;241m=\u001B[39m \u001B[38;5;28mself\u001B[39m\u001B[38;5;241m.\u001B[39m_unwrap_value(\n\u001B[0;32m    323\u001B[0m         response\u001B[38;5;241m.\u001B[39mget(\u001B[38;5;124m'\u001B[39m\u001B[38;5;124mvalue\u001B[39m\u001B[38;5;124m'\u001B[39m, \u001B[38;5;28;01mNone\u001B[39;00m))\n\u001B[0;32m    324\u001B[0m     \u001B[38;5;28;01mreturn\u001B[39;00m response\n",
      "File \u001B[1;32mE:\\anaconda-3\\envs\\default_env\\lib\\site-packages\\selenium\\webdriver\\remote\\errorhandler.py:242\u001B[0m, in \u001B[0;36mErrorHandler.check_response\u001B[1;34m(self, response)\u001B[0m\n\u001B[0;32m    240\u001B[0m         alert_text \u001B[38;5;241m=\u001B[39m value[\u001B[38;5;124m'\u001B[39m\u001B[38;5;124malert\u001B[39m\u001B[38;5;124m'\u001B[39m]\u001B[38;5;241m.\u001B[39mget(\u001B[38;5;124m'\u001B[39m\u001B[38;5;124mtext\u001B[39m\u001B[38;5;124m'\u001B[39m)\n\u001B[0;32m    241\u001B[0m     \u001B[38;5;28;01mraise\u001B[39;00m exception_class(message, screen, stacktrace, alert_text)\n\u001B[1;32m--> 242\u001B[0m \u001B[38;5;28;01mraise\u001B[39;00m exception_class(message, screen, stacktrace)\n",
      "\u001B[1;31mElementClickInterceptedException\u001B[0m: Message: element click intercepted: Element <button type=\"button\" id=\"newFjf\" class=\"bh-btn bh-btn-primary\">...</button> is not clickable at point (193, 374). Other element would receive the click: <div class=\"jqx-window-modal\" style=\"opacity: 0.3; display: block; position: absolute; top: 0px; left: 0px; width: 100%; height: 2434px; z-index: 18000;\"></div>\n  (Session info: chrome=125.0.6422.142)\n"
     ]
    }
   ],
   "execution_count": 45
  },
  {
   "metadata": {
    "ExecuteTime": {
     "end_time": "2024-06-07T17:06:20.902681Z",
     "start_time": "2024-06-07T17:06:19.799945Z"
    }
   },
   "cell_type": "code",
   "source": "print(driver.title)",
   "id": "29252800948fb3fc",
   "outputs": [
    {
     "name": "stdout",
     "output_type": "stream",
     "text": [
      "综合测评\n"
     ]
    }
   ],
   "execution_count": 13
  }
 ],
 "metadata": {
  "kernelspec": {
   "display_name": "Python 3",
   "language": "python",
   "name": "python3"
  },
  "language_info": {
   "codemirror_mode": {
    "name": "ipython",
    "version": 2
   },
   "file_extension": ".py",
   "mimetype": "text/x-python",
   "name": "python",
   "nbconvert_exporter": "python",
   "pygments_lexer": "ipython2",
   "version": "2.7.6"
  }
 },
 "nbformat": 4,
 "nbformat_minor": 5
}
