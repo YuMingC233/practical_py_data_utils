{
 "cells": [
  {
   "metadata": {},
   "cell_type": "markdown",
   "source": "引入包，定义基本属性",
   "id": "a32b4d8f6b5a9a50"
  },
  {
   "metadata": {
    "ExecuteTime": {
     "end_time": "2024-06-15T04:29:38.640091Z",
     "start_time": "2024-06-15T04:29:36.364976Z"
    }
   },
   "cell_type": "code",
   "source": [
    "import os\n",
    "import random\n",
    "import time\n",
    "import requests\n",
    "from openai import OpenAI\n",
    "from dotenv import load_dotenv\n",
    "from selenium import webdriver\n",
    "from selenium.webdriver.common.by import By\n",
    "from selenium.webdriver.support.ui import WebDriverWait\n",
    "from selenium.webdriver.support import expected_conditions as EC\n",
    "from selenium.common.exceptions import StaleElementReferenceException\n",
    "\n",
    "# 从.env文件中导入账号(ACCOUNT)和密码(PASSWORD)\n",
    "dotenv_path = \"../../.env\"\n",
    "load_dotenv(dotenv_path)\n",
    "ACCOUNT = os.getenv(\"HNJD_ACCOUNT\")\n",
    "PASSWORD = os.getenv(\"HNJD_PASSWORD\")\n",
    "\n",
    "form_data = dict()\n",
    "\n",
    "print(\"初始化成功.\")"
   ],
   "id": "51174314c23374a3",
   "outputs": [
    {
     "name": "stdout",
     "output_type": "stream",
     "text": [
      "初始化成功.\n"
     ]
    }
   ],
   "execution_count": 1
  },
  {
   "metadata": {},
   "cell_type": "markdown",
   "source": "进入登录页",
   "id": "881b18f9dc7b49fa"
  },
  {
   "metadata": {
    "ExecuteTime": {
     "end_time": "2024-06-15T04:29:57.790846Z",
     "start_time": "2024-06-15T04:29:55.147480Z"
    }
   },
   "cell_type": "code",
   "source": [
    "driver = webdriver.Chrome()\n",
    "driver.maximize_window()\n",
    "# 等待2秒\n",
    "time.sleep(.5)\n",
    "# 刷新网页\n",
    "driver.refresh()\n",
    "# 访问指定网页\n",
    "driver.get(\"http://authserver.hnjdzy.net/authserver/login?service=http%3A%2F%2F172.16.101.107%2Fsso%2Fjziotlogin\")\n",
    "\n",
    "print(\"done\")"
   ],
   "id": "2b04f6e55aa08f5c",
   "outputs": [
    {
     "name": "stdout",
     "output_type": "stream",
     "text": [
      "done\n"
     ]
    }
   ],
   "execution_count": 3
  },
  {
   "metadata": {},
   "cell_type": "markdown",
   "source": "登录后台",
   "id": "e17a2a1619e12243"
  },
  {
   "metadata": {
    "ExecuteTime": {
     "end_time": "2024-06-15T04:30:02.249948Z",
     "start_time": "2024-06-15T04:30:00.726669Z"
    }
   },
   "cell_type": "code",
   "source": [
    "driver.find_element_by_id(\"username\").send_keys(ACCOUNT)\n",
    "driver.find_element_by_id(\"password\").send_keys(PASSWORD)\n",
    "driver.find_element_by_class_name(\"auth_login_btn\").click()\n",
    "\n",
    "driver.get(\"http://172.16.101.107/jwglxt/xspjgl/xspj_cxXspjIndex.html?doType=details&gnmkdm=N401605&layout=default&su=202220220474\")\n",
    "print(\"get in....\")"
   ],
   "id": "f15c36a485ecaf01",
   "outputs": [
    {
     "name": "stdout",
     "output_type": "stream",
     "text": [
      "get in....\n"
     ]
    }
   ],
   "execution_count": 4
  },
  {
   "metadata": {},
   "cell_type": "markdown",
   "source": "定义必要方法",
   "id": "af23d1e786987c02"
  },
  {
   "metadata": {
    "ExecuteTime": {
     "end_time": "2024-06-15T04:30:06.644485Z",
     "start_time": "2024-06-15T04:30:06.622286Z"
    }
   },
   "cell_type": "code",
   "source": [
    "def submit():\n",
    "    \"\"\"\n",
    "    点击提交按钮\n",
    "    :return:\n",
    "    \"\"\"\n",
    "    driver.find_element(By.ID, \"btn_xspj_tj\").click()\n",
    "    driver.find_element(By.ID, \"btn_ok\").click()\n",
    "    time.sleep(2)\n",
    "\n",
    "\n",
    "def save():\n",
    "    \"\"\"\n",
    "    点击保存按钮\n",
    "    :return:\n",
    "    \"\"\"\n",
    "    driver.find_element(By.ID, \"btn_xspj_bc\").click()\n",
    "    driver.find_element(By.ID, \"btn_ok\").click()\n",
    "    time.sleep(2)\n",
    "\n",
    "def random_choice(driver):\n",
    "    \"\"\"\n",
    "    有规则的随机选择radio\n",
    "    :param driver: \n",
    "    :return: \n",
    "    \"\"\"\n",
    "    # 获取所有的form-group\n",
    "    form_groups = driver.find_elements(By.CSS_SELECTOR, \".form-group\")\n",
    "    # 随机选择从第五个5开始的form_group，除了最后一个\n",
    "    random_index = random.randint(5, len(form_groups) - 2)\n",
    "    selected_form_group = form_groups[random_index]\n",
    "    # 在选定的form_group中选择第二个radio\n",
    "    second_radio = selected_form_group.find_elements(\n",
    "        By.CSS_SELECTOR, 'input[type=\"radio\"]'\n",
    "    )[1]\n",
    "    second_radio.click()\n",
    "\n",
    "print(\"basic function done.\")"
   ],
   "id": "5cf6739f679b4730",
   "outputs": [
    {
     "name": "stdout",
     "output_type": "stream",
     "text": [
      "basic function done.\n"
     ]
    }
   ],
   "execution_count": 5
  },
  {
   "metadata": {
    "ExecuteTime": {
     "end_time": "2024-06-15T04:35:31.688768Z",
     "start_time": "2024-06-15T04:35:31.660744Z"
    }
   },
   "cell_type": "code",
   "source": [
    "def select_teacher(driver):\n",
    "    \"\"\"\n",
    "    选择老师\n",
    "    :param driver:\n",
    "    :return:\n",
    "    \"\"\"\n",
    "\n",
    "    need_handle = input(\"请输入您需要手动评价的老师，使用英文逗号分隔。\" \n",
    "                        \"选择完毕后按回车键继续，为空则全部老师满分随机：\")\n",
    "    print(\"正在选择老师...\")\n",
    "    # 获取css path为#tempGrid .jqgrow的所有老师的行\n",
    "    rows = driver.find_elements(By.CLASS_NAME, \"jqgrow\")\n",
    "    for i in range(len(rows)):\n",
    "        # 获取行元素，以确保它们是最新的并且与DOM关联\n",
    "        try:\n",
    "            row = WebDriverWait(driver, 10).until(\n",
    "                EC.presence_of_all_elements_located((By.CLASS_NAME, \"jqgrow\"))\n",
    "            )[i]\n",
    "\n",
    "            # 检查行内是否存在title为“提交”的td\n",
    "            if len(row.find_elements(By.CSS_SELECTOR, \"td[title='提交']\")) != 0:\n",
    "                continue\n",
    "            # 检查行内是否存在title为“已评完”的td\n",
    "            elif len(row.find_elements(By.CSS_SELECTOR, \"td[title='已评完']\")) != 0:\n",
    "                continue\n",
    "            # 点击该row\n",
    "            row.click()\n",
    "            # 等待1秒\n",
    "            time.sleep(1)\n",
    "            # 将need_handle分割并转换为整数列表\n",
    "            need_handle_list = [\n",
    "                int(j.strip()) for j in need_handle.split(\",\") if j.strip().isdigit()\n",
    "            ]\n",
    "            # 检查i + 1是否在这个列表中\n",
    "            if (i + 1) in need_handle_list:\n",
    "                fill_form(driver, True)\n",
    "            else:\n",
    "                fill_form(driver, False)\n",
    "        except StaleElementReferenceException:\n",
    "            break\n",
    "            \n",
    "\n",
    "def fill_form(driver, Handle):\n",
    "    \"\"\"\n",
    "    自动填写表单方法\n",
    "    :param driver: \n",
    "    :param Handle: \n",
    "    :return: \n",
    "    \"\"\"\n",
    "    global all_select\n",
    "\n",
    "    all_select = False\n",
    "\n",
    "    # 查找class为form-group的form-group列表\n",
    "    rows = driver.find_elements(By.CSS_SELECTOR, \".tr-xspj\")\n",
    "\n",
    "    # 收集所有的form_groups\n",
    "    all_form_groups = []\n",
    "    for row in rows:\n",
    "        form_groups = row.find_elements(By.CSS_SELECTOR, \".form-group\")\n",
    "        all_form_groups.extend(form_groups)  # 将这个row的form_groups添加到总列表中\n",
    "\n",
    "    # 检查是否所有的form_groups中都有被选中的radio元素\n",
    "    if all(\n",
    "        form_group.find_element(By.CSS_SELECTOR, 'input[type=\"radio\"]').is_selected()\n",
    "        for form_group in all_form_groups\n",
    "    ):\n",
    "        all_select = True\n",
    "\n",
    "    if not all_select:\n",
    "        # 遍历form_groups，并点击其中的第一个radio标签\n",
    "        for form_group in all_form_groups:\n",
    "            form_group.find_element(By.CSS_SELECTOR, 'input[type=\"radio\"]').click()\n",
    "            # 等待0.5秒\n",
    "            time.sleep(0.5)\n",
    "        if not Handle:\n",
    "            # 随机选择一个radio\n",
    "            random_choice(driver)\n",
    "\n",
    "    comment = \"\"\n",
    "    # 查找name为py的textarea标签，并输入评语\n",
    "    driver.find_element(By.NAME, \"py\").send_keys(comment)\n",
    "    # 点击提交按钮\n",
    "    submit()\n",
    "        \n",
    "print(\"main logic function done.\")"
   ],
   "id": "1c7f0a13d7ced686",
   "outputs": [
    {
     "name": "stdout",
     "output_type": "stream",
     "text": [
      "main logic function done.\n"
     ]
    }
   ],
   "execution_count": 9
  },
  {
   "metadata": {
    "ExecuteTime": {
     "end_time": "2024-06-15T04:38:33.000258Z",
     "start_time": "2024-06-15T04:36:31.924944Z"
    }
   },
   "cell_type": "code",
   "source": [
    "global all_select\n",
    "select_teacher(driver)"
   ],
   "id": "fca13cd0ae25b353",
   "outputs": [
    {
     "name": "stdout",
     "output_type": "stream",
     "text": [
      "正在选择老师...\n"
     ]
    }
   ],
   "execution_count": 10
  }
 ],
 "metadata": {
  "kernelspec": {
   "display_name": "Python 3",
   "language": "python",
   "name": "python3"
  },
  "language_info": {
   "codemirror_mode": {
    "name": "ipython",
    "version": 2
   },
   "file_extension": ".py",
   "mimetype": "text/x-python",
   "name": "python",
   "nbconvert_exporter": "python",
   "pygments_lexer": "ipython2",
   "version": "2.7.6"
  }
 },
 "nbformat": 4,
 "nbformat_minor": 5
}
